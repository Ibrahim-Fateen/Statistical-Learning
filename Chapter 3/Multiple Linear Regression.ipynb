{
 "cells": [
  {
   "cell_type": "code",
   "id": "initial_id",
   "metadata": {
    "collapsed": true,
    "ExecuteTime": {
     "end_time": "2024-09-03T17:12:01.545647Z",
     "start_time": "2024-09-03T17:12:00.145134Z"
    }
   },
   "source": [
    "import pandas as pd\n",
    "\n",
    "data = pd.read_csv('../Data/Advertising.csv')\n",
    "data.head()"
   ],
   "outputs": [
    {
     "data": {
      "text/plain": [
       "   Unnamed: 0     TV  radio  newspaper  sales\n",
       "0           1  230.1   37.8       69.2   22.1\n",
       "1           2   44.5   39.3       45.1   10.4\n",
       "2           3   17.2   45.9       69.3    9.3\n",
       "3           4  151.5   41.3       58.5   18.5\n",
       "4           5  180.8   10.8       58.4   12.9"
      ],
      "text/html": [
       "<div>\n",
       "<style scoped>\n",
       "    .dataframe tbody tr th:only-of-type {\n",
       "        vertical-align: middle;\n",
       "    }\n",
       "\n",
       "    .dataframe tbody tr th {\n",
       "        vertical-align: top;\n",
       "    }\n",
       "\n",
       "    .dataframe thead th {\n",
       "        text-align: right;\n",
       "    }\n",
       "</style>\n",
       "<table border=\"1\" class=\"dataframe\">\n",
       "  <thead>\n",
       "    <tr style=\"text-align: right;\">\n",
       "      <th></th>\n",
       "      <th>Unnamed: 0</th>\n",
       "      <th>TV</th>\n",
       "      <th>radio</th>\n",
       "      <th>newspaper</th>\n",
       "      <th>sales</th>\n",
       "    </tr>\n",
       "  </thead>\n",
       "  <tbody>\n",
       "    <tr>\n",
       "      <th>0</th>\n",
       "      <td>1</td>\n",
       "      <td>230.1</td>\n",
       "      <td>37.8</td>\n",
       "      <td>69.2</td>\n",
       "      <td>22.1</td>\n",
       "    </tr>\n",
       "    <tr>\n",
       "      <th>1</th>\n",
       "      <td>2</td>\n",
       "      <td>44.5</td>\n",
       "      <td>39.3</td>\n",
       "      <td>45.1</td>\n",
       "      <td>10.4</td>\n",
       "    </tr>\n",
       "    <tr>\n",
       "      <th>2</th>\n",
       "      <td>3</td>\n",
       "      <td>17.2</td>\n",
       "      <td>45.9</td>\n",
       "      <td>69.3</td>\n",
       "      <td>9.3</td>\n",
       "    </tr>\n",
       "    <tr>\n",
       "      <th>3</th>\n",
       "      <td>4</td>\n",
       "      <td>151.5</td>\n",
       "      <td>41.3</td>\n",
       "      <td>58.5</td>\n",
       "      <td>18.5</td>\n",
       "    </tr>\n",
       "    <tr>\n",
       "      <th>4</th>\n",
       "      <td>5</td>\n",
       "      <td>180.8</td>\n",
       "      <td>10.8</td>\n",
       "      <td>58.4</td>\n",
       "      <td>12.9</td>\n",
       "    </tr>\n",
       "  </tbody>\n",
       "</table>\n",
       "</div>"
      ]
     },
     "execution_count": 1,
     "metadata": {},
     "output_type": "execute_result"
    }
   ],
   "execution_count": 1
  },
  {
   "metadata": {
    "ExecuteTime": {
     "end_time": "2024-09-03T17:19:01.019664Z",
     "start_time": "2024-09-03T17:18:52.866051Z"
    }
   },
   "cell_type": "code",
   "source": [
    "from sklearn.model_selection import train_test_split\n",
    "from sklearn.linear_model import LinearRegression\n",
    "from sklearn.metrics import mean_squared_error, r2_score\n",
    "\n",
    "X = data[['TV', 'radio', 'newspaper']]\n",
    "y = data['sales']\n",
    "X_train, X_test, y_train, y_test = train_test_split(X, y, test_size=0.2, random_state=42)\n",
    "\n",
    "model = LinearRegression()\n",
    "model.fit(X_train, y_train)\n",
    "y_pred = model.predict(X_test)\n",
    "\n",
    "mse = mean_squared_error(y_test, y_pred)\n",
    "r2 = r2_score(y_test, y_pred)\n",
    "\n",
    "print(f'Mean Squared Error: {mse}')\n",
    "print(f'R2 Score: {r2}')"
   ],
   "id": "e8a8fdbfc713d012",
   "outputs": [
    {
     "name": "stdout",
     "output_type": "stream",
     "text": [
      "Mean Squared Error: 3.1740973539761064\n",
      "R2 Score: 0.8994380241009119\n"
     ]
    }
   ],
   "execution_count": 3
  },
  {
   "metadata": {
    "ExecuteTime": {
     "end_time": "2024-09-03T17:20:17.879741Z",
     "start_time": "2024-09-03T17:20:17.865079Z"
    }
   },
   "cell_type": "code",
   "source": [
    "y_pred = model.predict(X)\n",
    "mse = mean_squared_error(y, y_pred)\n",
    "r2 = r2_score(y, y_pred)\n",
    "\n",
    "print(f'Mean Squared Error: {mse}')\n",
    "print(f'R2 Score: {r2}')"
   ],
   "id": "f37160a7d835e285",
   "outputs": [
    {
     "name": "stdout",
     "output_type": "stream",
     "text": [
      "Mean Squared Error: 2.798923009260352\n",
      "R2 Score: 0.8966643473004003\n"
     ]
    }
   ],
   "execution_count": 4
  },
  {
   "metadata": {
    "ExecuteTime": {
     "end_time": "2024-09-03T17:24:06.156324Z",
     "start_time": "2024-09-03T17:24:06.135820Z"
    }
   },
   "cell_type": "code",
   "source": [
    "model.fit(X, y)\n",
    "coefficients = model.coef_\n",
    "for feature, coef in zip(X.columns, coefficients):\n",
    "    print(f'{feature}: {coef:.3f}')"
   ],
   "id": "e939150dec488238",
   "outputs": [
    {
     "name": "stdout",
     "output_type": "stream",
     "text": [
      "TV: 0.046\n",
      "radio: 0.189\n",
      "newspaper: -0.001\n"
     ]
    }
   ],
   "execution_count": 6
  },
  {
   "metadata": {
    "ExecuteTime": {
     "end_time": "2024-09-03T17:38:18.784983Z",
     "start_time": "2024-09-03T17:38:18.758775Z"
    }
   },
   "cell_type": "code",
   "source": [
    "import numpy as np\n",
    "\n",
    "n = len(y)\n",
    "p = X.shape[1]\n",
    "residuals = y - y_pred\n",
    "RSS = np.sum(residuals**2)\n",
    "sigma2 = RSS / (n - p - 1)\n",
    "\n",
    "X_with_intercept = np.column_stack((np.ones(n), X))\n",
    "XtX_inv = np.linalg.inv(np.dot(X_with_intercept.T, X_with_intercept))\n",
    "var_b = sigma2 * XtX_inv\n",
    "\n",
    "std_errors = np.sqrt(np.diag(var_b))\n",
    "\n",
    "for feature, std_err in zip(['intercept'] + list(X.columns), std_errors):\n",
    "    print(f'{feature}: {std_err:.4f}')"
   ],
   "id": "45ee6c2f78f540d6",
   "outputs": [
    {
     "name": "stdout",
     "output_type": "stream",
     "text": [
      "intercept: 0.3127\n",
      "TV: 0.0014\n",
      "radio: 0.0086\n",
      "newspaper: 0.0059\n"
     ]
    }
   ],
   "execution_count": 13
  },
  {
   "metadata": {
    "ExecuteTime": {
     "end_time": "2024-09-03T17:40:37.969452Z",
     "start_time": "2024-09-03T17:40:37.922316Z"
    }
   },
   "cell_type": "code",
   "source": [
    "t_statistics = ([0] + coefficients) / std_errors\n",
    "t_statistics"
   ],
   "id": "5424ac15428d27cb",
   "outputs": [
    {
     "ename": "ValueError",
     "evalue": "operands could not be broadcast together with shapes (3,) (4,) ",
     "output_type": "error",
     "traceback": [
      "\u001B[0;31m---------------------------------------------------------------------------\u001B[0m",
      "\u001B[0;31mValueError\u001B[0m                                Traceback (most recent call last)",
      "Cell \u001B[0;32mIn[14], line 1\u001B[0m\n\u001B[0;32m----> 1\u001B[0m t_statistics \u001B[38;5;241m=\u001B[39m \u001B[43m(\u001B[49m\u001B[43m[\u001B[49m\u001B[38;5;241;43m0\u001B[39;49m\u001B[43m]\u001B[49m\u001B[43m \u001B[49m\u001B[38;5;241;43m+\u001B[39;49m\u001B[43m \u001B[49m\u001B[43mcoefficients\u001B[49m\u001B[43m)\u001B[49m\u001B[43m \u001B[49m\u001B[38;5;241;43m/\u001B[39;49m\u001B[43m \u001B[49m\u001B[43mstd_errors\u001B[49m\n\u001B[1;32m      2\u001B[0m t_statistics\n",
      "\u001B[0;31mValueError\u001B[0m: operands could not be broadcast together with shapes (3,) (4,) "
     ]
    }
   ],
   "execution_count": 14
  },
  {
   "metadata": {
    "ExecuteTime": {
     "end_time": "2024-09-03T17:40:54.668896Z",
     "start_time": "2024-09-03T17:40:54.653656Z"
    }
   },
   "cell_type": "code",
   "source": "coefficients.shape",
   "id": "7187547c4a9c2e62",
   "outputs": [
    {
     "data": {
      "text/plain": [
       "(3,)"
      ]
     },
     "execution_count": 15,
     "metadata": {},
     "output_type": "execute_result"
    }
   ],
   "execution_count": 15
  },
  {
   "metadata": {
    "ExecuteTime": {
     "end_time": "2024-09-03T17:41:02.103101Z",
     "start_time": "2024-09-03T17:41:02.089571Z"
    }
   },
   "cell_type": "code",
   "source": "std_errors.shape",
   "id": "5ec70859f1b7ae71",
   "outputs": [
    {
     "data": {
      "text/plain": [
       "(4,)"
      ]
     },
     "execution_count": 16,
     "metadata": {},
     "output_type": "execute_result"
    }
   ],
   "execution_count": 16
  },
  {
   "metadata": {
    "ExecuteTime": {
     "end_time": "2024-09-03T17:41:16.058832Z",
     "start_time": "2024-09-03T17:41:16.049565Z"
    }
   },
   "cell_type": "code",
   "source": "([0] + coefficients).shape",
   "id": "448e7d6ccd73f23",
   "outputs": [
    {
     "data": {
      "text/plain": [
       "(3,)"
      ]
     },
     "execution_count": 17,
     "metadata": {},
     "output_type": "execute_result"
    }
   ],
   "execution_count": 17
  },
  {
   "metadata": {
    "ExecuteTime": {
     "end_time": "2024-09-03T17:43:25.157481Z",
     "start_time": "2024-09-03T17:43:25.134337Z"
    }
   },
   "cell_type": "code",
   "source": [
    "coefficients_std_errors = std_errors[1:]\n",
    "t_statistics = coefficients / coefficients_std_errors\n",
    "t_statistics"
   ],
   "id": "d59022981ccc7429",
   "outputs": [
    {
     "data": {
      "text/plain": [
       "array([32.72178701, 21.83554865, -0.17624686])"
      ]
     },
     "execution_count": 18,
     "metadata": {},
     "output_type": "execute_result"
    }
   ],
   "execution_count": 18
  },
  {
   "metadata": {
    "ExecuteTime": {
     "end_time": "2024-09-03T17:44:02.528400Z",
     "start_time": "2024-09-03T17:44:02.517480Z"
    }
   },
   "cell_type": "code",
   "source": [
    "from scipy import stats\n",
    "\n",
    "p_values = 2 * (1 - stats.t.cdf(np.abs(t_statistics), n - p - 1))"
   ],
   "id": "f6d2c87715cc6206",
   "outputs": [],
   "execution_count": 20
  },
  {
   "metadata": {
    "ExecuteTime": {
     "end_time": "2024-09-03T17:44:07.704289Z",
     "start_time": "2024-09-03T17:44:07.688217Z"
    }
   },
   "cell_type": "code",
   "source": "p_values",
   "id": "35a5a9ec0341bd52",
   "outputs": [
    {
     "data": {
      "text/plain": [
       "array([0.        , 0.        , 0.86028198])"
      ]
     },
     "execution_count": 21,
     "metadata": {},
     "output_type": "execute_result"
    }
   ],
   "execution_count": 21
  },
  {
   "metadata": {
    "ExecuteTime": {
     "end_time": "2024-09-03T17:46:41.050253Z",
     "start_time": "2024-09-03T17:46:41.043898Z"
    }
   },
   "cell_type": "code",
   "source": [
    "print ('Feature | Coefficient | Std. Error | t-statistic | p-value')\n",
    "for feature, coef, se, t_stat, p_value in zip(list(X.columns), coefficients, std_errors[1:], t_statistics, p_values):\n",
    "    print(f'{feature}: {coef:.3f} | {se:.4f} | {t_stat:.2f} | {p_value:.4f}')"
   ],
   "id": "74d973ffb9f3edb2",
   "outputs": [
    {
     "name": "stdout",
     "output_type": "stream",
     "text": [
      "Feature | Coefficient | Std. Error | t-statistic | p-value\n",
      "TV: 0.046 | 0.0014 | 32.72 | 0.0000\n",
      "radio: 0.189 | 0.0086 | 21.84 | 0.0000\n",
      "newspaper: -0.001 | 0.0059 | -0.18 | 0.8603\n"
     ]
    }
   ],
   "execution_count": 23
  },
  {
   "metadata": {},
   "cell_type": "markdown",
   "source": "### Question 1: Is there a relationship between sales and advertising budget?",
   "id": "3205eb40b45081b3"
  },
  {
   "metadata": {},
   "cell_type": "markdown",
   "source": "Null hypothesis: $\\beta_{TV} = \\beta_{radio} = \\beta_{newspaper} = 0$\n",
   "id": "a11afcfdaa926319"
  },
  {
   "metadata": {},
   "cell_type": "markdown",
   "source": [
    "Computed using the F-statistic:\n",
    "$$F = \\frac{(TSS - RSS) / p}{RSS / (n - p - 1)}$$"
   ],
   "id": "628c303c6c4dcb9c"
  },
  {
   "metadata": {
    "ExecuteTime": {
     "end_time": "2024-09-03T17:53:20.885681Z",
     "start_time": "2024-09-03T17:53:20.846855Z"
    }
   },
   "cell_type": "code",
   "source": [
    "TSS = np.sum((y - y.mean())**2)\n",
    "F = ((TSS - RSS) / p) / (RSS / (n - p - 1))\n",
    "F"
   ],
   "id": "1978aa81313848c0",
   "outputs": [
    {
     "data": {
      "text/plain": [
       "np.float64(566.9105401655801)"
      ]
     },
     "execution_count": 24,
     "metadata": {},
     "output_type": "execute_result"
    }
   ],
   "execution_count": 24
  },
  {
   "metadata": {
    "ExecuteTime": {
     "end_time": "2024-09-03T17:54:03.561873Z",
     "start_time": "2024-09-03T17:54:03.547384Z"
    }
   },
   "cell_type": "code",
   "source": [
    "R2 = 1 - RSS / TSS\n",
    "R2"
   ],
   "id": "ef45196d0cbc186c",
   "outputs": [
    {
     "data": {
      "text/plain": [
       "np.float64(0.8966643473004003)"
      ]
     },
     "execution_count": 26,
     "metadata": {},
     "output_type": "execute_result"
    }
   ],
   "execution_count": 26
  },
  {
   "metadata": {
    "ExecuteTime": {
     "end_time": "2024-09-03T17:54:14.692867Z",
     "start_time": "2024-09-03T17:54:14.675832Z"
    }
   },
   "cell_type": "code",
   "source": "RSS",
   "id": "1d94502e7b8291a3",
   "outputs": [
    {
     "data": {
      "text/plain": [
       "np.float64(559.7846018520704)"
      ]
     },
     "execution_count": 27,
     "metadata": {},
     "output_type": "execute_result"
    }
   ],
   "execution_count": 27
  },
  {
   "metadata": {
    "ExecuteTime": {
     "end_time": "2024-09-03T17:55:01.716118Z",
     "start_time": "2024-09-03T17:55:01.709538Z"
    }
   },
   "cell_type": "code",
   "source": "sigma2",
   "id": "7c3dabe943fd6cf0",
   "outputs": [
    {
     "data": {
      "text/plain": [
       "np.float64(2.856043887000359)"
      ]
     },
     "execution_count": 28,
     "metadata": {},
     "output_type": "execute_result"
    }
   ],
   "execution_count": 28
  },
  {
   "metadata": {
    "ExecuteTime": {
     "end_time": "2024-09-04T09:33:17.168423Z",
     "start_time": "2024-09-04T09:33:17.095987Z"
    }
   },
   "cell_type": "code",
   "source": [
    "from scipy import stats\n",
    "\n",
    "p_value = stats.f.sf(F, p, n - p - 1)\n",
    "p_value"
   ],
   "id": "63cdb31d616da26e",
   "outputs": [
    {
     "data": {
      "text/plain": [
       "np.float64(2.6473425434792483e-96)"
      ]
     },
     "execution_count": 29,
     "metadata": {},
     "output_type": "execute_result"
    }
   ],
   "execution_count": 29
  },
  {
   "metadata": {},
   "cell_type": "markdown",
   "source": "p-value is negligible, almost zero. Therefor, we reject the null hypothesis with a very high degree of confidence.",
   "id": "f63936be3bead250"
  },
  {
   "metadata": {},
   "cell_type": "markdown",
   "source": "### Question 2: How strong is the relationship?",
   "id": "92738f975bfb818f"
  },
  {
   "metadata": {
    "ExecuteTime": {
     "end_time": "2024-09-04T09:37:10.932848Z",
     "start_time": "2024-09-04T09:37:10.915071Z"
    }
   },
   "cell_type": "code",
   "source": [
    "RSE = np.sqrt(RSS / (n - p - 1))\n",
    "RSE"
   ],
   "id": "2c689d31edcfcdff",
   "outputs": [
    {
     "data": {
      "text/plain": [
       "np.float64(1.6899833984392743)"
      ]
     },
     "execution_count": 30,
     "metadata": {},
     "output_type": "execute_result"
    }
   ],
   "execution_count": 30
  },
  {
   "metadata": {},
   "cell_type": "markdown",
   "source": "The standard error of the regression is 1.68. This means that the model's predictions are typically off of the population regression line by 1.68 units.",
   "id": "45de6a8c8679576d"
  },
  {
   "metadata": {
    "ExecuteTime": {
     "end_time": "2024-09-04T09:37:38.786150Z",
     "start_time": "2024-09-04T09:37:38.777398Z"
    }
   },
   "cell_type": "code",
   "source": "r2",
   "id": "e242d421d9532512",
   "outputs": [
    {
     "data": {
      "text/plain": [
       "0.8966643473004003"
      ]
     },
     "execution_count": 31,
     "metadata": {},
     "output_type": "execute_result"
    }
   ],
   "execution_count": 31
  },
  {
   "metadata": {},
   "cell_type": "markdown",
   "source": "The multiple regression model explains 90% of the variance in sales.",
   "id": "591aa169de36cde2"
  },
  {
   "metadata": {},
   "cell_type": "markdown",
   "source": "### Question 3: Which media(s) contribute to sales?",
   "id": "a2bbe614084ff579"
  },
  {
   "metadata": {},
   "cell_type": "markdown",
   "source": "To answer this, we do multiple hypothesis tests, each testing if the coefficient of a feature is zero.\n",
   "id": "cf5fb0b9d749aba6"
  },
  {
   "metadata": {
    "ExecuteTime": {
     "end_time": "2024-09-04T10:07:13.967195Z",
     "start_time": "2024-09-04T10:07:13.907113Z"
    }
   },
   "cell_type": "code",
   "source": [
    "model_all = LinearRegression()\n",
    "model_all.fit(X, y)\n",
    "y_pred_all = model_all.predict(X)\n",
    "residuals_all = y - y_pred_all\n",
    "RSS_all = np.sum(residuals_all**2)\n",
    "TSS = np.sum((y - y.mean())**2)\n",
    "n = len(y)\n",
    "p = X.shape[1]"
   ],
   "id": "a0ded43c669e301c",
   "outputs": [],
   "execution_count": 48
  },
  {
   "metadata": {
    "ExecuteTime": {
     "end_time": "2024-09-04T10:08:30.371225Z",
     "start_time": "2024-09-04T10:08:30.362344Z"
    }
   },
   "cell_type": "code",
   "source": [
    "F_all = ((TSS - RSS_all) / p) / (RSS_all / (n - p - 1))\n",
    "p_value_all = stats.f.sf(F_all, p, n - p - 1)\n",
    "r2_all = 1 - RSS_all / TSS\n",
    "print(f'RSS: {RSS_all}')\n",
    "print(f'TSS: {TSS}')\n",
    "print(f'F-statistic: {F_all}')\n",
    "print(f'p-value: {p_value_all}')\n",
    "print(f'R2: {r2_all}')"
   ],
   "id": "89f6a1d748d2a981",
   "outputs": [
    {
     "name": "stdout",
     "output_type": "stream",
     "text": [
      "RSS: 556.8252629021872\n",
      "TSS: 5417.14875\n",
      "F-statistic: 570.2707036590942\n",
      "p-value: 1.575227256092437e-96\n",
      "R2: 0.8972106381789522\n"
     ]
    }
   ],
   "execution_count": 50
  },
  {
   "metadata": {},
   "cell_type": "markdown",
   "source": "Null hypothesis 1: $\\beta_{TV} = 0$\n",
   "id": "d36bed70a3b90693"
  },
  {
   "metadata": {
    "ExecuteTime": {
     "end_time": "2024-09-04T10:10:14.844326Z",
     "start_time": "2024-09-04T10:10:14.804519Z"
    }
   },
   "cell_type": "code",
   "source": [
    "model_no_tv = LinearRegression()\n",
    "model_no_tv.fit(X[['radio', 'newspaper']], y)\n",
    "y_pred_no_tv = model_no_tv.predict(X[['radio', 'newspaper']])\n",
    "residuals_no_tv = y - y_pred_no_tv\n",
    "RSS_no_tv = np.sum(residuals_no_tv**2)\n",
    "q = 2\n",
    "F_tv = ((RSS_no_tv - RSS_all) / q) / (RSS_all / (n - p - 1))\n",
    "p_value_tv = stats.f.sf(F_tv, q, n - p - 1)\n",
    "r2_no_tv = 1 - RSS_no_tv / TSS\n",
    "print(f'RSS_0: {RSS_no_tv}')\n",
    "print(f'F-statistic: {F_tv}')\n",
    "print(f'p-value: {p_value_tv}')\n",
    "print(f'R2: {r2_no_tv}')"
   ],
   "id": "c75762e9a326eed7",
   "outputs": [
    {
     "name": "stdout",
     "output_type": "stream",
     "text": [
      "RSS_0: 3614.8352786449905\n",
      "F-statistic: 538.2029184179415\n",
      "p-value: 2.4421989083799917e-80\n",
      "R2: 0.33270518395032256\n"
     ]
    }
   ],
   "execution_count": 51
  },
  {
   "metadata": {},
   "cell_type": "markdown",
   "source": "p-value is negligible, we reject the null hypothesis, meaning that TV advertising has a significant effect on sales.",
   "id": "d91a60a246b5b164"
  },
  {
   "metadata": {},
   "cell_type": "markdown",
   "source": "Null hypothesis 2: $\\beta_{radio} = 0$",
   "id": "3d5b5bb8989344f6"
  },
  {
   "metadata": {
    "ExecuteTime": {
     "end_time": "2024-09-04T10:11:32.565794Z",
     "start_time": "2024-09-04T10:11:32.551779Z"
    }
   },
   "cell_type": "code",
   "source": [
    "model_no_radio = LinearRegression()\n",
    "model_no_radio.fit(X[['TV', 'newspaper']], y)\n",
    "y_pred_no_radio = model_no_radio.predict(X[['TV', 'newspaper']])\n",
    "residuals_no_radio = y - y_pred_no_radio\n",
    "RSS_no_radio = np.sum(residuals_no_radio**2)\n",
    "F_radio = ((RSS_no_radio - RSS_all) / q) / (RSS_all / (n - p - 1))\n",
    "p_value_radio = stats.f.sf(F_radio, q, n - p - 1)\n",
    "r2_no_radio = 1 - RSS_no_radio / TSS\n",
    "print(f'RSS_0: {RSS_no_radio}')\n",
    "print(f'F-statistic: {F_radio}')\n",
    "print(f'p-value: {p_value_radio}')\n",
    "print(f'R2: {r2_no_radio}')"
   ],
   "id": "2307968bd7cb4d38",
   "outputs": [
    {
     "name": "stdout",
     "output_type": "stream",
     "text": [
      "RSS_0: 1918.5618118968275\n",
      "F-statistic: 239.66258482226374\n",
      "p-value: 2.2326838462402936e-53\n",
      "R2: 0.6458354938293271\n"
     ]
    }
   ],
   "execution_count": 52
  },
  {
   "metadata": {},
   "cell_type": "markdown",
   "source": "p-value is negligible, we reject the null hypothesis, meaning that radio advertising has a significant effect on sales.",
   "id": "3a9feedf725793af"
  },
  {
   "metadata": {},
   "cell_type": "markdown",
   "source": "Null hypothesis 3: $\\beta_{newspaper} = 0$",
   "id": "a28b91640eacb44a"
  },
  {
   "metadata": {
    "ExecuteTime": {
     "end_time": "2024-09-04T10:12:08.365291Z",
     "start_time": "2024-09-04T10:12:08.340426Z"
    }
   },
   "cell_type": "code",
   "source": [
    "model_no_newspaper = LinearRegression()\n",
    "model_no_newspaper.fit(X[['TV', 'radio']], y)\n",
    "y_pred_no_newspaper = model_no_newspaper.predict(X[['TV', 'radio']])\n",
    "residuals_no_newspaper = y - y_pred_no_newspaper\n",
    "RSS_no_newspaper = np.sum(residuals_no_newspaper**2)\n",
    "F_newspaper = ((RSS_no_newspaper - RSS_all) / q) / (RSS_all / (n - p - 1))\n",
    "p_value_newspaper = stats.f.sf(F_newspaper, q, n - p - 1)\n",
    "r2_no_newspaper = 1 - RSS_no_newspaper / TSS\n",
    "print(f'RSS_0: {RSS_no_newspaper}')\n",
    "print(f'F-statistic: {F_newspaper}')\n",
    "print(f'p-value: {p_value_newspaper}')\n",
    "print(f'R2: {r2_no_newspaper}')"
   ],
   "id": "302132f8fda6ae54",
   "outputs": [
    {
     "name": "stdout",
     "output_type": "stream",
     "text": [
      "RSS_0: 556.9139800676184\n",
      "F-statistic: 0.015614022551595014\n",
      "p-value: 0.9845084687891822\n",
      "R2: 0.8971942610828956\n"
     ]
    }
   ],
   "execution_count": 53
  },
  {
   "metadata": {},
   "cell_type": "markdown",
   "source": "p-value is high, so we fail to reject the null hypothesis, meaning that newspaper advertising could have no significant effect on sales.",
   "id": "4f8842ccaff8ab1"
  }
 ],
 "metadata": {
  "kernelspec": {
   "display_name": "Python 3",
   "language": "python",
   "name": "python3"
  },
  "language_info": {
   "codemirror_mode": {
    "name": "ipython",
    "version": 2
   },
   "file_extension": ".py",
   "mimetype": "text/x-python",
   "name": "python",
   "nbconvert_exporter": "python",
   "pygments_lexer": "ipython2",
   "version": "2.7.6"
  }
 },
 "nbformat": 4,
 "nbformat_minor": 5
}
