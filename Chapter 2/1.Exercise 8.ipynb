{
 "cells": [
  {
   "cell_type": "code",
   "id": "initial_id",
   "metadata": {
    "collapsed": true
   },
   "source": [
    "import pandas as pd\n",
    "\n",
    "college_data = pd.read_csv('../Data/college.csv')\n",
    "college_data.head()"
   ],
   "outputs": [],
   "execution_count": null
  },
  {
   "metadata": {},
   "cell_type": "code",
   "source": [
    "college_data = pd.read_csv('../Data/college.csv', index_col=0)\n",
    "college_data.head() "
   ],
   "id": "23046154b02e3d4e",
   "outputs": [],
   "execution_count": null
  },
  {
   "metadata": {},
   "cell_type": "code",
   "source": [
    "college_data = college_data.rename(columns={'Unnamed: 0': 'College'})\n",
    "college_data.head()"
   ],
   "id": "7b5571427e951b6b",
   "outputs": [],
   "execution_count": null
  },
  {
   "metadata": {},
   "cell_type": "code",
   "source": [
    "college_data = pd.read_csv('../Data/college.csv')\n",
    "college_data = college_data.rename(columns={'Unnamed: 0': 'College'})\n",
    "college_data = college_data.set_index('College')\n",
    "college_data.head()"
   ],
   "id": "dbf1052a0dda11de",
   "outputs": [],
   "execution_count": null
  },
  {
   "metadata": {},
   "cell_type": "code",
   "source": "college_data.describe()",
   "id": "e6b78d258e22e240",
   "outputs": [],
   "execution_count": null
  },
  {
   "metadata": {},
   "cell_type": "code",
   "source": "pd.plotting.scatter_matrix(college_data[[\"Top10perc\", \"Apps\", \"Enroll\"]], figsize=(15,15))",
   "id": "2d66e04339829dfc",
   "outputs": [],
   "execution_count": null
  },
  {
   "metadata": {},
   "cell_type": "code",
   "source": "college_data.boxplot(column='Outstate', by='Private')",
   "id": "83c1c731b03e19b0",
   "outputs": [],
   "execution_count": null
  },
  {
   "metadata": {},
   "cell_type": "code",
   "source": [
    "college_data['Elite'] = pd.cut(college_data['Top10perc'], [0, 50, 100], labels=['No', 'Yes'])\n",
    "count_elite = college_data['Elite'].value_counts('Yes')\n",
    "print(count_elite)"
   ],
   "id": "338eaf2bf9264dfa",
   "outputs": [],
   "execution_count": null
  },
  {
   "metadata": {},
   "cell_type": "code",
   "source": "college_data.boxplot(column='Outstate', by='Elite')",
   "id": "78898eef6a5e14e1",
   "outputs": [],
   "execution_count": null
  },
  {
   "metadata": {},
   "cell_type": "code",
   "source": "",
   "id": "b72f66511d19b966",
   "outputs": [],
   "execution_count": null
  }
 ],
 "metadata": {
  "kernelspec": {
   "display_name": "Python 3",
   "language": "python",
   "name": "python3"
  },
  "language_info": {
   "codemirror_mode": {
    "name": "ipython",
    "version": 2
   },
   "file_extension": ".py",
   "mimetype": "text/x-python",
   "name": "python",
   "nbconvert_exporter": "python",
   "pygments_lexer": "ipython2",
   "version": "2.7.6"
  }
 },
 "nbformat": 4,
 "nbformat_minor": 5
}
